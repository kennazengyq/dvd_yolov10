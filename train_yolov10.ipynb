{
 "cells": [
  {
   "cell_type": "code",
   "execution_count": 1,
   "metadata": {},
   "outputs": [
    {
     "name": "stdout",
     "output_type": "stream",
     "text": [
      "Python 3.9.19\n"
     ]
    }
   ],
   "source": [
    "!python --version"
   ]
  },
  {
   "cell_type": "code",
   "execution_count": 2,
   "metadata": {},
   "outputs": [
    {
     "name": "stdout",
     "output_type": "stream",
     "text": [
      "Cloning into 'yolov10'...\n",
      "remote: Enumerating objects: 20304, done.\u001b[K\n",
      "remote: Counting objects: 100% (1502/1502), done.\u001b[K\n",
      "remote: Compressing objects: 100% (154/154), done.\u001b[K\n",
      "remote: Total 20304 (delta 1438), reused 1348 (delta 1348), pack-reused 18802\u001b[K\n",
      "Receiving objects: 100% (20304/20304), 11.17 MiB | 15.58 MiB/s, done.\n",
      "Resolving deltas: 100% (14314/14314), done.\n"
     ]
    }
   ],
   "source": [
    "!git clone https://github.com/THU-MIG/yolov10.git\n"
   ]
  },
  {
   "cell_type": "code",
   "execution_count": 3,
   "metadata": {},
   "outputs": [
    {
     "name": "stdout",
     "output_type": "stream",
     "text": [
      "/Users/kenna/Desktop/dvd/Hunter_CC/yolov10\n"
     ]
    }
   ],
   "source": [
    "cd yolov10/"
   ]
  },
  {
   "cell_type": "code",
   "execution_count": 4,
   "metadata": {},
   "outputs": [
    {
     "name": "stdout",
     "output_type": "stream",
     "text": [
      "Processing /Users/kenna/Desktop/dvd/Hunter_CC/yolov10\n",
      "  Installing build dependencies ... \u001b[?25ldone\n",
      "\u001b[?25h  Getting requirements to build wheel ... \u001b[?25ldone\n",
      "\u001b[?25h  Preparing metadata (pyproject.toml) ... \u001b[?25ldone\n",
      "\u001b[?25hCollecting matplotlib>=3.3.0 (from ultralytics==8.1.34)\n",
      "  Downloading matplotlib-3.9.1-cp39-cp39-macosx_11_0_arm64.whl.metadata (11 kB)\n",
      "Collecting opencv-python>=4.6.0 (from ultralytics==8.1.34)\n",
      "  Using cached opencv_python-4.10.0.84-cp37-abi3-macosx_11_0_arm64.whl.metadata (20 kB)\n",
      "Collecting pillow>=7.1.2 (from ultralytics==8.1.34)\n",
      "  Downloading pillow-10.4.0-cp39-cp39-macosx_11_0_arm64.whl.metadata (9.2 kB)\n",
      "Collecting pyyaml>=5.3.1 (from ultralytics==8.1.34)\n",
      "  Downloading PyYAML-6.0.1-cp39-cp39-macosx_11_0_arm64.whl.metadata (2.1 kB)\n",
      "Collecting requests>=2.23.0 (from ultralytics==8.1.34)\n",
      "  Downloading requests-2.32.3-py3-none-any.whl.metadata (4.6 kB)\n",
      "Collecting scipy>=1.4.1 (from ultralytics==8.1.34)\n",
      "  Downloading scipy-1.13.1-cp39-cp39-macosx_12_0_arm64.whl.metadata (60 kB)\n",
      "\u001b[2K     \u001b[90m━━━━━━━━━━━━━━━━━━━━━━━━━━━━━━━━━━━━━━━━\u001b[0m \u001b[32m60.6/60.6 kB\u001b[0m \u001b[31m5.9 MB/s\u001b[0m eta \u001b[36m0:00:00\u001b[0m\n",
      "\u001b[?25hCollecting torch>=1.8.0 (from ultralytics==8.1.34)\n",
      "  Downloading torch-2.3.1-cp39-none-macosx_11_0_arm64.whl.metadata (26 kB)\n",
      "Collecting torchvision>=0.9.0 (from ultralytics==8.1.34)\n",
      "  Downloading torchvision-0.18.1-cp39-cp39-macosx_11_0_arm64.whl.metadata (6.6 kB)\n",
      "Collecting tqdm>=4.64.0 (from ultralytics==8.1.34)\n",
      "  Using cached tqdm-4.66.4-py3-none-any.whl.metadata (57 kB)\n",
      "Requirement already satisfied: psutil in /Users/kenna/Desktop/dvd/Hunter_CC/.conda/lib/python3.9/site-packages (from ultralytics==8.1.34) (5.9.0)\n",
      "Collecting py-cpuinfo (from ultralytics==8.1.34)\n",
      "  Using cached py_cpuinfo-9.0.0-py3-none-any.whl.metadata (794 bytes)\n",
      "Collecting thop>=0.1.1 (from ultralytics==8.1.34)\n",
      "  Using cached thop-0.1.1.post2209072238-py3-none-any.whl.metadata (2.7 kB)\n",
      "Collecting pandas>=1.1.4 (from ultralytics==8.1.34)\n",
      "  Downloading pandas-2.2.2-cp39-cp39-macosx_11_0_arm64.whl.metadata (19 kB)\n",
      "Collecting seaborn>=0.11.0 (from ultralytics==8.1.34)\n",
      "  Using cached seaborn-0.13.2-py3-none-any.whl.metadata (5.4 kB)\n",
      "Collecting contourpy>=1.0.1 (from matplotlib>=3.3.0->ultralytics==8.1.34)\n",
      "  Downloading contourpy-1.2.1-cp39-cp39-macosx_11_0_arm64.whl.metadata (5.8 kB)\n",
      "Collecting cycler>=0.10 (from matplotlib>=3.3.0->ultralytics==8.1.34)\n",
      "  Using cached cycler-0.12.1-py3-none-any.whl.metadata (3.8 kB)\n",
      "Collecting fonttools>=4.22.0 (from matplotlib>=3.3.0->ultralytics==8.1.34)\n",
      "  Downloading fonttools-4.53.0-cp39-cp39-macosx_11_0_arm64.whl.metadata (162 kB)\n",
      "\u001b[2K     \u001b[90m━━━━━━━━━━━━━━━━━━━━━━━━━━━━━━━━━━━━━━\u001b[0m \u001b[32m162.2/162.2 kB\u001b[0m \u001b[31m12.3 MB/s\u001b[0m eta \u001b[36m0:00:00\u001b[0m\n",
      "\u001b[?25hCollecting kiwisolver>=1.3.1 (from matplotlib>=3.3.0->ultralytics==8.1.34)\n",
      "  Using cached kiwisolver-1.4.5-cp39-cp39-macosx_11_0_arm64.whl.metadata (6.4 kB)\n",
      "Collecting numpy>=1.23 (from matplotlib>=3.3.0->ultralytics==8.1.34)\n",
      "  Downloading numpy-2.0.0-cp39-cp39-macosx_14_0_arm64.whl.metadata (60 kB)\n",
      "\u001b[2K     \u001b[90m━━━━━━━━━━━━━━━━━━━━━━━━━━━━━━━━━━━━━━━━\u001b[0m \u001b[32m60.9/60.9 kB\u001b[0m \u001b[31m8.5 MB/s\u001b[0m eta \u001b[36m0:00:00\u001b[0m\n",
      "\u001b[?25hRequirement already satisfied: packaging>=20.0 in /Users/kenna/Desktop/dvd/Hunter_CC/.conda/lib/python3.9/site-packages (from matplotlib>=3.3.0->ultralytics==8.1.34) (24.1)\n",
      "Collecting pyparsing>=2.3.1 (from matplotlib>=3.3.0->ultralytics==8.1.34)\n",
      "  Using cached pyparsing-3.1.2-py3-none-any.whl.metadata (5.1 kB)\n",
      "Requirement already satisfied: python-dateutil>=2.7 in /Users/kenna/Desktop/dvd/Hunter_CC/.conda/lib/python3.9/site-packages (from matplotlib>=3.3.0->ultralytics==8.1.34) (2.9.0)\n",
      "Collecting importlib-resources>=3.2.0 (from matplotlib>=3.3.0->ultralytics==8.1.34)\n",
      "  Downloading importlib_resources-6.4.0-py3-none-any.whl.metadata (3.9 kB)\n",
      "Collecting pytz>=2020.1 (from pandas>=1.1.4->ultralytics==8.1.34)\n",
      "  Using cached pytz-2024.1-py2.py3-none-any.whl.metadata (22 kB)\n",
      "Collecting tzdata>=2022.7 (from pandas>=1.1.4->ultralytics==8.1.34)\n",
      "  Using cached tzdata-2024.1-py2.py3-none-any.whl.metadata (1.4 kB)\n",
      "Collecting charset-normalizer<4,>=2 (from requests>=2.23.0->ultralytics==8.1.34)\n",
      "  Using cached charset_normalizer-3.3.2-cp39-cp39-macosx_11_0_arm64.whl.metadata (33 kB)\n",
      "Collecting idna<4,>=2.5 (from requests>=2.23.0->ultralytics==8.1.34)\n",
      "  Downloading idna-3.7-py3-none-any.whl.metadata (9.9 kB)\n",
      "Collecting urllib3<3,>=1.21.1 (from requests>=2.23.0->ultralytics==8.1.34)\n",
      "  Downloading urllib3-2.2.2-py3-none-any.whl.metadata (6.4 kB)\n",
      "Collecting certifi>=2017.4.17 (from requests>=2.23.0->ultralytics==8.1.34)\n",
      "  Downloading certifi-2024.7.4-py3-none-any.whl.metadata (2.2 kB)\n",
      "Collecting filelock (from torch>=1.8.0->ultralytics==8.1.34)\n",
      "  Using cached filelock-3.15.4-py3-none-any.whl.metadata (2.9 kB)\n",
      "Requirement already satisfied: typing-extensions>=4.8.0 in /Users/kenna/Desktop/dvd/Hunter_CC/.conda/lib/python3.9/site-packages (from torch>=1.8.0->ultralytics==8.1.34) (4.12.2)\n",
      "Collecting sympy (from torch>=1.8.0->ultralytics==8.1.34)\n",
      "  Using cached sympy-1.12.1-py3-none-any.whl.metadata (12 kB)\n",
      "Collecting networkx (from torch>=1.8.0->ultralytics==8.1.34)\n",
      "  Downloading networkx-3.2.1-py3-none-any.whl.metadata (5.2 kB)\n",
      "Collecting jinja2 (from torch>=1.8.0->ultralytics==8.1.34)\n",
      "  Downloading jinja2-3.1.4-py3-none-any.whl.metadata (2.6 kB)\n",
      "Collecting fsspec (from torch>=1.8.0->ultralytics==8.1.34)\n",
      "  Using cached fsspec-2024.6.1-py3-none-any.whl.metadata (11 kB)\n",
      "Collecting zipp>=3.1.0 (from importlib-resources>=3.2.0->matplotlib>=3.3.0->ultralytics==8.1.34)\n",
      "  Downloading zipp-3.19.2-py3-none-any.whl.metadata (3.6 kB)\n",
      "Requirement already satisfied: six>=1.5 in /Users/kenna/Desktop/dvd/Hunter_CC/.conda/lib/python3.9/site-packages (from python-dateutil>=2.7->matplotlib>=3.3.0->ultralytics==8.1.34) (1.16.0)\n",
      "Collecting MarkupSafe>=2.0 (from jinja2->torch>=1.8.0->ultralytics==8.1.34)\n",
      "  Downloading MarkupSafe-2.1.5-cp39-cp39-macosx_10_9_universal2.whl.metadata (3.0 kB)\n",
      "Collecting mpmath<1.4.0,>=1.1.0 (from sympy->torch>=1.8.0->ultralytics==8.1.34)\n",
      "  Using cached mpmath-1.3.0-py3-none-any.whl.metadata (8.6 kB)\n",
      "Downloading matplotlib-3.9.1-cp39-cp39-macosx_11_0_arm64.whl (7.8 MB)\n",
      "\u001b[2K   \u001b[90m━━━━━━━━━━━━━━━━━━━━━━━━━━━━━━━━━━━━━━━━\u001b[0m \u001b[32m7.8/7.8 MB\u001b[0m \u001b[31m25.1 MB/s\u001b[0m eta \u001b[36m0:00:00\u001b[0ma \u001b[36m0:00:01\u001b[0m\n",
      "\u001b[?25hUsing cached opencv_python-4.10.0.84-cp37-abi3-macosx_11_0_arm64.whl (54.8 MB)\n",
      "Downloading pandas-2.2.2-cp39-cp39-macosx_11_0_arm64.whl (11.3 MB)\n",
      "\u001b[2K   \u001b[90m━━━━━━━━━━━━━━━━━━━━━━━━━━━━━━━━━━━━━━━━\u001b[0m \u001b[32m11.3/11.3 MB\u001b[0m \u001b[31m32.3 MB/s\u001b[0m eta \u001b[36m0:00:00\u001b[0m00:01\u001b[0m00:01\u001b[0m\n",
      "\u001b[?25hDownloading pillow-10.4.0-cp39-cp39-macosx_11_0_arm64.whl (3.4 MB)\n",
      "\u001b[2K   \u001b[90m━━━━━━━━━━━━━━━━━━━━━━━━━━━━━━━━━━━━━━━━\u001b[0m \u001b[32m3.4/3.4 MB\u001b[0m \u001b[31m33.9 MB/s\u001b[0m eta \u001b[36m0:00:00\u001b[0ma \u001b[36m0:00:01\u001b[0m\n",
      "\u001b[?25hDownloading PyYAML-6.0.1-cp39-cp39-macosx_11_0_arm64.whl (174 kB)\n",
      "\u001b[2K   \u001b[90m━━━━━━━━━━━━━━━━━━━━━━━━━━━━━━━━━━━━━━━━\u001b[0m \u001b[32m174.4/174.4 kB\u001b[0m \u001b[31m21.3 MB/s\u001b[0m eta \u001b[36m0:00:00\u001b[0m\n",
      "\u001b[?25hDownloading requests-2.32.3-py3-none-any.whl (64 kB)\n",
      "\u001b[2K   \u001b[90m━━━━━━━━━━━━━━━━━━━━━━━━━━━━━━━━━━━━━━━━\u001b[0m \u001b[32m64.9/64.9 kB\u001b[0m \u001b[31m9.7 MB/s\u001b[0m eta \u001b[36m0:00:00\u001b[0m\n",
      "\u001b[?25hDownloading scipy-1.13.1-cp39-cp39-macosx_12_0_arm64.whl (30.3 MB)\n",
      "\u001b[2K   \u001b[90m━━━━━━━━━━━━━━━━━━━━━━━━━━━━━━━━━━━━━━━━\u001b[0m \u001b[32m30.3/30.3 MB\u001b[0m \u001b[31m36.7 MB/s\u001b[0m eta \u001b[36m0:00:00\u001b[0m00:01\u001b[0m00:01\u001b[0m\n",
      "\u001b[?25hUsing cached seaborn-0.13.2-py3-none-any.whl (294 kB)\n",
      "Using cached thop-0.1.1.post2209072238-py3-none-any.whl (15 kB)\n",
      "Downloading torch-2.3.1-cp39-none-macosx_11_0_arm64.whl (61.0 MB)\n",
      "\u001b[2K   \u001b[90m━━━━━━━━━━━━━━━━━━━━━━━━━━━━━━━━━━━━━━━━\u001b[0m \u001b[32m61.0/61.0 MB\u001b[0m \u001b[31m37.6 MB/s\u001b[0m eta \u001b[36m0:00:00\u001b[0m00:01\u001b[0m00:01\u001b[0m\n",
      "\u001b[?25hDownloading torchvision-0.18.1-cp39-cp39-macosx_11_0_arm64.whl (1.6 MB)\n",
      "\u001b[2K   \u001b[90m━━━━━━━━━━━━━━━━━━━━━━━━━━━━━━━━━━━━━━━━\u001b[0m \u001b[32m1.6/1.6 MB\u001b[0m \u001b[31m40.6 MB/s\u001b[0m eta \u001b[36m0:00:00\u001b[0m00:01\u001b[0m\n",
      "\u001b[?25hUsing cached tqdm-4.66.4-py3-none-any.whl (78 kB)\n",
      "Using cached py_cpuinfo-9.0.0-py3-none-any.whl (22 kB)\n",
      "Downloading certifi-2024.7.4-py3-none-any.whl (162 kB)\n",
      "\u001b[2K   \u001b[90m━━━━━━━━━━━━━━━━━━━━━━━━━━━━━━━━━━━━━━━━\u001b[0m \u001b[32m163.0/163.0 kB\u001b[0m \u001b[31m26.2 MB/s\u001b[0m eta \u001b[36m0:00:00\u001b[0m\n",
      "\u001b[?25hUsing cached charset_normalizer-3.3.2-cp39-cp39-macosx_11_0_arm64.whl (120 kB)\n",
      "Downloading contourpy-1.2.1-cp39-cp39-macosx_11_0_arm64.whl (244 kB)\n",
      "\u001b[2K   \u001b[90m━━━━━━━━━━━━━━━━━━━━━━━━━━━━━━━━━━━━━━━━\u001b[0m \u001b[32m245.0/245.0 kB\u001b[0m \u001b[31m30.4 MB/s\u001b[0m eta \u001b[36m0:00:00\u001b[0m\n",
      "\u001b[?25hUsing cached cycler-0.12.1-py3-none-any.whl (8.3 kB)\n",
      "Downloading fonttools-4.53.0-cp39-cp39-macosx_11_0_arm64.whl (2.2 MB)\n",
      "\u001b[2K   \u001b[90m━━━━━━━━━━━━━━━━━━━━━━━━━━━━━━━━━━━━━━━━\u001b[0m \u001b[32m2.2/2.2 MB\u001b[0m \u001b[31m42.6 MB/s\u001b[0m eta \u001b[36m0:00:00\u001b[0ma \u001b[36m0:00:01\u001b[0m\n",
      "\u001b[?25hDownloading idna-3.7-py3-none-any.whl (66 kB)\n",
      "\u001b[2K   \u001b[90m━━━━━━━━━━━━━━━━━━━━━━━━━━━━━━━━━━━━━━━━\u001b[0m \u001b[32m66.8/66.8 kB\u001b[0m \u001b[31m11.3 MB/s\u001b[0m eta \u001b[36m0:00:00\u001b[0m\n",
      "\u001b[?25hDownloading importlib_resources-6.4.0-py3-none-any.whl (38 kB)\n",
      "Using cached kiwisolver-1.4.5-cp39-cp39-macosx_11_0_arm64.whl (66 kB)\n",
      "Downloading numpy-2.0.0-cp39-cp39-macosx_14_0_arm64.whl (5.2 MB)\n",
      "\u001b[2K   \u001b[90m━━━━━━━━━━━━━━━━━━━━━━━━━━━━━━━━━━━━━━━━\u001b[0m \u001b[32m5.2/5.2 MB\u001b[0m \u001b[31m43.3 MB/s\u001b[0m eta \u001b[36m0:00:00\u001b[0ma \u001b[36m0:00:01\u001b[0m\n",
      "\u001b[?25hUsing cached pyparsing-3.1.2-py3-none-any.whl (103 kB)\n",
      "Using cached pytz-2024.1-py2.py3-none-any.whl (505 kB)\n",
      "Using cached tzdata-2024.1-py2.py3-none-any.whl (345 kB)\n",
      "Downloading urllib3-2.2.2-py3-none-any.whl (121 kB)\n",
      "\u001b[2K   \u001b[90m━━━━━━━━━━━━━━━━━━━━━━━━━━━━━━━━━━━━━━━━\u001b[0m \u001b[32m121.4/121.4 kB\u001b[0m \u001b[31m19.5 MB/s\u001b[0m eta \u001b[36m0:00:00\u001b[0m\n",
      "\u001b[?25hUsing cached filelock-3.15.4-py3-none-any.whl (16 kB)\n",
      "Using cached fsspec-2024.6.1-py3-none-any.whl (177 kB)\n",
      "Downloading jinja2-3.1.4-py3-none-any.whl (133 kB)\n",
      "\u001b[2K   \u001b[90m━━━━━━━━━━━━━━━━━━━━━━━━━━━━━━━━━━━━━━━━\u001b[0m \u001b[32m133.3/133.3 kB\u001b[0m \u001b[31m20.5 MB/s\u001b[0m eta \u001b[36m0:00:00\u001b[0m\n",
      "\u001b[?25hDownloading networkx-3.2.1-py3-none-any.whl (1.6 MB)\n",
      "\u001b[2K   \u001b[90m━━━━━━━━━━━━━━━━━━━━━━━━━━━━━━━━━━━━━━━━\u001b[0m \u001b[32m1.6/1.6 MB\u001b[0m \u001b[31m47.2 MB/s\u001b[0m eta \u001b[36m0:00:00\u001b[0m\n",
      "\u001b[?25hUsing cached sympy-1.12.1-py3-none-any.whl (5.7 MB)\n",
      "Downloading MarkupSafe-2.1.5-cp39-cp39-macosx_10_9_universal2.whl (18 kB)\n",
      "Using cached mpmath-1.3.0-py3-none-any.whl (536 kB)\n",
      "Downloading zipp-3.19.2-py3-none-any.whl (9.0 kB)\n",
      "Building wheels for collected packages: ultralytics\n",
      "  Building wheel for ultralytics (pyproject.toml) ... \u001b[?25ldone\n",
      "\u001b[?25h  Created wheel for ultralytics: filename=ultralytics-8.1.34-py3-none-any.whl size=731282 sha256=17aa2e2ddddc8691cf1198df75c6602193107a67aed60a1fb8cf2db6e56ea65b\n",
      "  Stored in directory: /private/var/folders/8v/s26vx3l15yl6n1kp3gc5gncm0000gn/T/pip-ephem-wheel-cache-9zdareet/wheels/cf/c7/58/86edc84f0259055e341705d5fb2c3e77b844b1a154c4bf666b\n",
      "Successfully built ultralytics\n",
      "Installing collected packages: pytz, py-cpuinfo, mpmath, zipp, urllib3, tzdata, tqdm, sympy, pyyaml, pyparsing, pillow, numpy, networkx, MarkupSafe, kiwisolver, idna, fsspec, fonttools, filelock, cycler, charset-normalizer, certifi, scipy, requests, pandas, opencv-python, jinja2, importlib-resources, contourpy, torch, matplotlib, torchvision, thop, seaborn, ultralytics\n",
      "Successfully installed MarkupSafe-2.1.5 certifi-2024.7.4 charset-normalizer-3.3.2 contourpy-1.2.1 cycler-0.12.1 filelock-3.15.4 fonttools-4.53.0 fsspec-2024.6.1 idna-3.7 importlib-resources-6.4.0 jinja2-3.1.4 kiwisolver-1.4.5 matplotlib-3.9.1 mpmath-1.3.0 networkx-3.2.1 numpy-2.0.0 opencv-python-4.10.0.84 pandas-2.2.2 pillow-10.4.0 py-cpuinfo-9.0.0 pyparsing-3.1.2 pytz-2024.1 pyyaml-6.0.1 requests-2.32.3 scipy-1.13.1 seaborn-0.13.2 sympy-1.12.1 thop-0.1.1.post2209072238 torch-2.3.1 torchvision-0.18.1 tqdm-4.66.4 tzdata-2024.1 ultralytics-8.1.34 urllib3-2.2.2 zipp-3.19.2\n"
     ]
    }
   ],
   "source": [
    "!pip install ."
   ]
  },
  {
   "cell_type": "code",
   "execution_count": 7,
   "metadata": {},
   "outputs": [
    {
     "name": "stdout",
     "output_type": "stream",
     "text": [
      "Collecting torch==2.0.1 (from -r requirements.txt (line 1))\n",
      "  Downloading torch-2.0.1-cp39-none-macosx_11_0_arm64.whl.metadata (23 kB)\n",
      "Collecting torchvision==0.15.2 (from -r requirements.txt (line 2))\n",
      "  Downloading torchvision-0.15.2-cp39-cp39-macosx_11_0_arm64.whl.metadata (11 kB)\n",
      "Collecting onnx==1.14.0 (from -r requirements.txt (line 3))\n",
      "  Downloading onnx-1.14.0-cp39-cp39-macosx_10_12_universal2.whl.metadata (15 kB)\n",
      "Collecting onnxruntime==1.15.1 (from -r requirements.txt (line 4))\n",
      "  Downloading onnxruntime-1.15.1-cp39-cp39-macosx_11_0_arm64.whl.metadata (4.0 kB)\n",
      "Collecting pycocotools==2.0.7 (from -r requirements.txt (line 5))\n",
      "  Downloading pycocotools-2.0.7-cp39-cp39-macosx_10_9_universal2.whl.metadata (1.1 kB)\n",
      "Requirement already satisfied: PyYAML==6.0.1 in /Users/kenna/Desktop/dvd/Hunter_CC/.conda/lib/python3.9/site-packages (from -r requirements.txt (line 6)) (6.0.1)\n",
      "Collecting scipy==1.13.0 (from -r requirements.txt (line 7))\n",
      "  Downloading scipy-1.13.0-cp39-cp39-macosx_12_0_arm64.whl.metadata (60 kB)\n",
      "\u001b[2K     \u001b[90m━━━━━━━━━━━━━━━━━━━━━━━━━━━━━━━━━━━━━━━━\u001b[0m \u001b[32m60.6/60.6 kB\u001b[0m \u001b[31m5.9 MB/s\u001b[0m eta \u001b[36m0:00:00\u001b[0m\n",
      "\u001b[?25hCollecting onnxsim==0.4.36 (from -r requirements.txt (line 8))\n",
      "  Downloading onnxsim-0.4.36-cp39-cp39-macosx_10_15_universal2.whl.metadata (4.3 kB)\n",
      "\u001b[31mERROR: Ignored the following versions that require a different python version: 1.14.0 Requires-Python >=3.10; 1.14.0rc1 Requires-Python >=3.10; 1.14.0rc2 Requires-Python >=3.10\u001b[0m\u001b[31m\n",
      "\u001b[0m\u001b[31mERROR: Could not find a version that satisfies the requirement onnxruntime-gpu==1.18.0 (from versions: none)\u001b[0m\u001b[31m\n",
      "\u001b[0m\u001b[31mERROR: No matching distribution found for onnxruntime-gpu==1.18.0\u001b[0m\u001b[31m\n",
      "\u001b[0m"
     ]
    }
   ],
   "source": [
    "!pip install -r requirements.txt"
   ]
  },
  {
   "cell_type": "code",
   "execution_count": 8,
   "metadata": {},
   "outputs": [
    {
     "name": "stdout",
     "output_type": "stream",
     "text": [
      "Obtaining file:///Users/kenna/Desktop/dvd/Hunter_CC/yolov10\n",
      "  Installing build dependencies ... \u001b[?25ldone\n",
      "\u001b[?25h  Checking if build backend supports build_editable ... \u001b[?25ldone\n",
      "\u001b[?25h  Getting requirements to build editable ... \u001b[?25ldone\n",
      "\u001b[?25h  Preparing editable metadata (pyproject.toml) ... \u001b[?25ldone\n",
      "\u001b[?25hRequirement already satisfied: matplotlib>=3.3.0 in /Users/kenna/Desktop/dvd/Hunter_CC/.conda/lib/python3.9/site-packages (from ultralytics==8.1.34) (3.9.1)\n",
      "Requirement already satisfied: opencv-python>=4.6.0 in /Users/kenna/Desktop/dvd/Hunter_CC/.conda/lib/python3.9/site-packages (from ultralytics==8.1.34) (4.10.0.84)\n",
      "Requirement already satisfied: pillow>=7.1.2 in /Users/kenna/Desktop/dvd/Hunter_CC/.conda/lib/python3.9/site-packages (from ultralytics==8.1.34) (10.4.0)\n",
      "Requirement already satisfied: pyyaml>=5.3.1 in /Users/kenna/Desktop/dvd/Hunter_CC/.conda/lib/python3.9/site-packages (from ultralytics==8.1.34) (6.0.1)\n",
      "Requirement already satisfied: requests>=2.23.0 in /Users/kenna/Desktop/dvd/Hunter_CC/.conda/lib/python3.9/site-packages (from ultralytics==8.1.34) (2.32.3)\n",
      "Requirement already satisfied: scipy>=1.4.1 in /Users/kenna/Desktop/dvd/Hunter_CC/.conda/lib/python3.9/site-packages (from ultralytics==8.1.34) (1.13.1)\n",
      "Requirement already satisfied: torch>=1.8.0 in /Users/kenna/Desktop/dvd/Hunter_CC/.conda/lib/python3.9/site-packages (from ultralytics==8.1.34) (2.3.1)\n",
      "Requirement already satisfied: torchvision>=0.9.0 in /Users/kenna/Desktop/dvd/Hunter_CC/.conda/lib/python3.9/site-packages (from ultralytics==8.1.34) (0.18.1)\n",
      "Requirement already satisfied: tqdm>=4.64.0 in /Users/kenna/Desktop/dvd/Hunter_CC/.conda/lib/python3.9/site-packages (from ultralytics==8.1.34) (4.66.4)\n",
      "Requirement already satisfied: psutil in /Users/kenna/Desktop/dvd/Hunter_CC/.conda/lib/python3.9/site-packages (from ultralytics==8.1.34) (5.9.0)\n",
      "Requirement already satisfied: py-cpuinfo in /Users/kenna/Desktop/dvd/Hunter_CC/.conda/lib/python3.9/site-packages (from ultralytics==8.1.34) (9.0.0)\n",
      "Requirement already satisfied: thop>=0.1.1 in /Users/kenna/Desktop/dvd/Hunter_CC/.conda/lib/python3.9/site-packages (from ultralytics==8.1.34) (0.1.1.post2209072238)\n",
      "Requirement already satisfied: pandas>=1.1.4 in /Users/kenna/Desktop/dvd/Hunter_CC/.conda/lib/python3.9/site-packages (from ultralytics==8.1.34) (2.2.2)\n",
      "Requirement already satisfied: seaborn>=0.11.0 in /Users/kenna/Desktop/dvd/Hunter_CC/.conda/lib/python3.9/site-packages (from ultralytics==8.1.34) (0.13.2)\n",
      "Requirement already satisfied: contourpy>=1.0.1 in /Users/kenna/Desktop/dvd/Hunter_CC/.conda/lib/python3.9/site-packages (from matplotlib>=3.3.0->ultralytics==8.1.34) (1.2.1)\n",
      "Requirement already satisfied: cycler>=0.10 in /Users/kenna/Desktop/dvd/Hunter_CC/.conda/lib/python3.9/site-packages (from matplotlib>=3.3.0->ultralytics==8.1.34) (0.12.1)\n",
      "Requirement already satisfied: fonttools>=4.22.0 in /Users/kenna/Desktop/dvd/Hunter_CC/.conda/lib/python3.9/site-packages (from matplotlib>=3.3.0->ultralytics==8.1.34) (4.53.0)\n",
      "Requirement already satisfied: kiwisolver>=1.3.1 in /Users/kenna/Desktop/dvd/Hunter_CC/.conda/lib/python3.9/site-packages (from matplotlib>=3.3.0->ultralytics==8.1.34) (1.4.5)\n",
      "Requirement already satisfied: numpy>=1.23 in /Users/kenna/Desktop/dvd/Hunter_CC/.conda/lib/python3.9/site-packages (from matplotlib>=3.3.0->ultralytics==8.1.34) (2.0.0)\n",
      "Requirement already satisfied: packaging>=20.0 in /Users/kenna/Desktop/dvd/Hunter_CC/.conda/lib/python3.9/site-packages (from matplotlib>=3.3.0->ultralytics==8.1.34) (24.1)\n",
      "Requirement already satisfied: pyparsing>=2.3.1 in /Users/kenna/Desktop/dvd/Hunter_CC/.conda/lib/python3.9/site-packages (from matplotlib>=3.3.0->ultralytics==8.1.34) (3.1.2)\n",
      "Requirement already satisfied: python-dateutil>=2.7 in /Users/kenna/Desktop/dvd/Hunter_CC/.conda/lib/python3.9/site-packages (from matplotlib>=3.3.0->ultralytics==8.1.34) (2.9.0)\n",
      "Requirement already satisfied: importlib-resources>=3.2.0 in /Users/kenna/Desktop/dvd/Hunter_CC/.conda/lib/python3.9/site-packages (from matplotlib>=3.3.0->ultralytics==8.1.34) (6.4.0)\n",
      "Requirement already satisfied: pytz>=2020.1 in /Users/kenna/Desktop/dvd/Hunter_CC/.conda/lib/python3.9/site-packages (from pandas>=1.1.4->ultralytics==8.1.34) (2024.1)\n",
      "Requirement already satisfied: tzdata>=2022.7 in /Users/kenna/Desktop/dvd/Hunter_CC/.conda/lib/python3.9/site-packages (from pandas>=1.1.4->ultralytics==8.1.34) (2024.1)\n",
      "Requirement already satisfied: charset-normalizer<4,>=2 in /Users/kenna/Desktop/dvd/Hunter_CC/.conda/lib/python3.9/site-packages (from requests>=2.23.0->ultralytics==8.1.34) (3.3.2)\n",
      "Requirement already satisfied: idna<4,>=2.5 in /Users/kenna/Desktop/dvd/Hunter_CC/.conda/lib/python3.9/site-packages (from requests>=2.23.0->ultralytics==8.1.34) (3.7)\n",
      "Requirement already satisfied: urllib3<3,>=1.21.1 in /Users/kenna/Desktop/dvd/Hunter_CC/.conda/lib/python3.9/site-packages (from requests>=2.23.0->ultralytics==8.1.34) (2.2.2)\n",
      "Requirement already satisfied: certifi>=2017.4.17 in /Users/kenna/Desktop/dvd/Hunter_CC/.conda/lib/python3.9/site-packages (from requests>=2.23.0->ultralytics==8.1.34) (2024.7.4)\n",
      "Requirement already satisfied: filelock in /Users/kenna/Desktop/dvd/Hunter_CC/.conda/lib/python3.9/site-packages (from torch>=1.8.0->ultralytics==8.1.34) (3.15.4)\n",
      "Requirement already satisfied: typing-extensions>=4.8.0 in /Users/kenna/Desktop/dvd/Hunter_CC/.conda/lib/python3.9/site-packages (from torch>=1.8.0->ultralytics==8.1.34) (4.12.2)\n",
      "Requirement already satisfied: sympy in /Users/kenna/Desktop/dvd/Hunter_CC/.conda/lib/python3.9/site-packages (from torch>=1.8.0->ultralytics==8.1.34) (1.12.1)\n",
      "Requirement already satisfied: networkx in /Users/kenna/Desktop/dvd/Hunter_CC/.conda/lib/python3.9/site-packages (from torch>=1.8.0->ultralytics==8.1.34) (3.2.1)\n",
      "Requirement already satisfied: jinja2 in /Users/kenna/Desktop/dvd/Hunter_CC/.conda/lib/python3.9/site-packages (from torch>=1.8.0->ultralytics==8.1.34) (3.1.4)\n",
      "Requirement already satisfied: fsspec in /Users/kenna/Desktop/dvd/Hunter_CC/.conda/lib/python3.9/site-packages (from torch>=1.8.0->ultralytics==8.1.34) (2024.6.1)\n",
      "Requirement already satisfied: zipp>=3.1.0 in /Users/kenna/Desktop/dvd/Hunter_CC/.conda/lib/python3.9/site-packages (from importlib-resources>=3.2.0->matplotlib>=3.3.0->ultralytics==8.1.34) (3.19.2)\n",
      "Requirement already satisfied: six>=1.5 in /Users/kenna/Desktop/dvd/Hunter_CC/.conda/lib/python3.9/site-packages (from python-dateutil>=2.7->matplotlib>=3.3.0->ultralytics==8.1.34) (1.16.0)\n",
      "Requirement already satisfied: MarkupSafe>=2.0 in /Users/kenna/Desktop/dvd/Hunter_CC/.conda/lib/python3.9/site-packages (from jinja2->torch>=1.8.0->ultralytics==8.1.34) (2.1.5)\n",
      "Requirement already satisfied: mpmath<1.4.0,>=1.1.0 in /Users/kenna/Desktop/dvd/Hunter_CC/.conda/lib/python3.9/site-packages (from sympy->torch>=1.8.0->ultralytics==8.1.34) (1.3.0)\n",
      "Building wheels for collected packages: ultralytics\n",
      "  Building editable for ultralytics (pyproject.toml) ... \u001b[?25ldone\n",
      "\u001b[?25h  Created wheel for ultralytics: filename=ultralytics-8.1.34-0.editable-py3-none-any.whl size=20559 sha256=a624b60a912e5b385360ba8635213bbb3107987c2e608b931fcea51393294726\n",
      "  Stored in directory: /private/var/folders/8v/s26vx3l15yl6n1kp3gc5gncm0000gn/T/pip-ephem-wheel-cache-hchiarob/wheels/cf/c7/58/86edc84f0259055e341705d5fb2c3e77b844b1a154c4bf666b\n",
      "Successfully built ultralytics\n",
      "Installing collected packages: ultralytics\n",
      "  Attempting uninstall: ultralytics\n",
      "    Found existing installation: ultralytics 8.1.34\n",
      "    Uninstalling ultralytics-8.1.34:\n",
      "      Successfully uninstalled ultralytics-8.1.34\n",
      "Successfully installed ultralytics-8.1.34\n"
     ]
    }
   ],
   "source": [
    "!pip install -e ."
   ]
  },
  {
   "cell_type": "code",
   "execution_count": 16,
   "metadata": {},
   "outputs": [
    {
     "name": "stdout",
     "output_type": "stream",
     "text": [
      "Downloaded /Users/kenna/Desktop/dvd/Hunter_CC/yolov10/weights/yolov10n.pt\n",
      "Downloaded /Users/kenna/Desktop/dvd/Hunter_CC/yolov10/weights/yolov10s.pt\n",
      "Downloaded /Users/kenna/Desktop/dvd/Hunter_CC/yolov10/weights/yolov10m.pt\n",
      "Downloaded /Users/kenna/Desktop/dvd/Hunter_CC/yolov10/weights/yolov10b.pt\n",
      "Downloaded /Users/kenna/Desktop/dvd/Hunter_CC/yolov10/weights/yolov10x.pt\n",
      "Downloaded /Users/kenna/Desktop/dvd/Hunter_CC/yolov10/weights/yolov10l.pt\n"
     ]
    }
   ],
   "source": [
    "\n",
    "import os\n",
    "import urllib.request\n",
    "\n",
    "# Create a directory for the weights in the current working directory\n",
    "weights_dir = os.path.join(os.getcwd(), \"weights\")\n",
    "os.makedirs(weights_dir, exist_ok=True)\n",
    "\n",
    "# URLs of the weight files\n",
    "urls = [\n",
    "    \"https://github.com/jameslahm/yolov10/releases/download/v1.0/yolov10n.pt\",\n",
    "    \"https://github.com/jameslahm/yolov10/releases/download/v1.0/yolov10s.pt\",\n",
    "    \"https://github.com/jameslahm/yolov10/releases/download/v1.0/yolov10m.pt\",\n",
    "    \"https://github.com/jameslahm/yolov10/releases/download/v1.0/yolov10b.pt\",\n",
    "    \"https://github.com/jameslahm/yolov10/releases/download/v1.0/yolov10x.pt\",\n",
    "    \"https://github.com/jameslahm/yolov10/releases/download/v1.0/yolov10l.pt\"\n",
    "]\n",
    "\n",
    "# Download each file\n",
    "for url in urls:\n",
    "    file_name = os.path.join(weights_dir, os.path.basename(url))\n",
    "    urllib.request.urlretrieve(url, file_name)\n",
    "    print(f\"Downloaded {file_name}\")"
   ]
  },
  {
   "cell_type": "code",
   "execution_count": 1,
   "metadata": {},
   "outputs": [
    {
     "name": "stdout",
     "output_type": "stream",
     "text": [
      "Ultralytics YOLOv8.1.34 🚀 Python-3.9.19 torch-2.3.1 CPU (Apple M2)\n",
      "YOLOv10n summary (fused): 285 layers, 2762608 parameters, 63840 gradients, 8.6 GFLOPs\n",
      "\n",
      "image 1/1 /Users/kenna/Desktop/dvd/Hunter_CC/yolov10/../small_data/val/images/online1_27.jpg: 384x640 1 4, 77.7ms\n",
      "Speed: 2.6ms preprocess, 77.7ms inference, 6.0ms postprocess per image at shape (1, 3, 384, 640)\n",
      "Results saved to \u001b[1m/Users/kenna/runs/detect/predict2\u001b[0m\n",
      "💡 Learn more at https://docs.ultralytics.com/modes/predict\n"
     ]
    }
   ],
   "source": [
    "!yolo task=detect mode=predict conf=0.25 save=True model= weights/yolov10n.pt source=../small_data/val/images/online1_27.jpg"
   ]
  },
  {
   "cell_type": "code",
   "execution_count": 2,
   "metadata": {},
   "outputs": [
    {
     "name": "stdout",
     "output_type": "stream",
     "text": [
      "Collecting huggingface_hub\n",
      "  Using cached huggingface_hub-0.23.4-py3-none-any.whl.metadata (12 kB)\n",
      "Collecting filelock (from huggingface_hub)\n",
      "  Using cached filelock-3.15.4-py3-none-any.whl.metadata (2.9 kB)\n",
      "Collecting fsspec>=2023.5.0 (from huggingface_hub)\n",
      "  Using cached fsspec-2024.6.1-py3-none-any.whl.metadata (11 kB)\n",
      "Requirement already satisfied: packaging>=20.9 in /Users/kenna/anaconda3/envs/torch/lib/python3.12/site-packages (from huggingface_hub) (24.1)\n",
      "Collecting pyyaml>=5.1 (from huggingface_hub)\n",
      "  Using cached PyYAML-6.0.1-cp312-cp312-macosx_11_0_arm64.whl.metadata (2.1 kB)\n",
      "Collecting requests (from huggingface_hub)\n",
      "  Using cached requests-2.32.3-py3-none-any.whl.metadata (4.6 kB)\n",
      "Collecting tqdm>=4.42.1 (from huggingface_hub)\n",
      "  Using cached tqdm-4.66.4-py3-none-any.whl.metadata (57 kB)\n",
      "Requirement already satisfied: typing-extensions>=3.7.4.3 in /Users/kenna/anaconda3/envs/torch/lib/python3.12/site-packages (from huggingface_hub) (4.12.2)\n",
      "Collecting charset-normalizer<4,>=2 (from requests->huggingface_hub)\n",
      "  Using cached charset_normalizer-3.3.2-cp312-cp312-macosx_11_0_arm64.whl.metadata (33 kB)\n",
      "Collecting idna<4,>=2.5 (from requests->huggingface_hub)\n",
      "  Using cached idna-3.7-py3-none-any.whl.metadata (9.9 kB)\n",
      "Collecting urllib3<3,>=1.21.1 (from requests->huggingface_hub)\n",
      "  Using cached urllib3-2.2.2-py3-none-any.whl.metadata (6.4 kB)\n",
      "Collecting certifi>=2017.4.17 (from requests->huggingface_hub)\n",
      "  Using cached certifi-2024.7.4-py3-none-any.whl.metadata (2.2 kB)\n",
      "Using cached huggingface_hub-0.23.4-py3-none-any.whl (402 kB)\n",
      "Using cached fsspec-2024.6.1-py3-none-any.whl (177 kB)\n",
      "Using cached PyYAML-6.0.1-cp312-cp312-macosx_11_0_arm64.whl (165 kB)\n",
      "Using cached tqdm-4.66.4-py3-none-any.whl (78 kB)\n",
      "Using cached filelock-3.15.4-py3-none-any.whl (16 kB)\n",
      "Using cached requests-2.32.3-py3-none-any.whl (64 kB)\n",
      "Using cached certifi-2024.7.4-py3-none-any.whl (162 kB)\n",
      "Using cached charset_normalizer-3.3.2-cp312-cp312-macosx_11_0_arm64.whl (119 kB)\n",
      "Using cached idna-3.7-py3-none-any.whl (66 kB)\n",
      "Using cached urllib3-2.2.2-py3-none-any.whl (121 kB)\n",
      "Installing collected packages: urllib3, tqdm, pyyaml, idna, fsspec, filelock, charset-normalizer, certifi, requests, huggingface_hub\n",
      "Successfully installed certifi-2024.7.4 charset-normalizer-3.3.2 filelock-3.15.4 fsspec-2024.6.1 huggingface_hub-0.23.4 idna-3.7 pyyaml-6.0.1 requests-2.32.3 tqdm-4.66.4 urllib3-2.2.2\n"
     ]
    }
   ],
   "source": [
    "!pip install huggingface_hub"
   ]
  },
  {
   "cell_type": "code",
   "execution_count": 3,
   "metadata": {},
   "outputs": [
    {
     "name": "stdout",
     "output_type": "stream",
     "text": [
      "New https://pypi.org/project/ultralytics/8.2.48 available 😃 Update with 'pip install -U ultralytics'\n",
      "Ultralytics YOLOv8.1.34 🚀 Python-3.9.19 torch-2.3.1 CPU (Apple M2)\n",
      "\u001b[34m\u001b[1mengine/trainer: \u001b[0mtask=detect, mode=train, model=weights/yolov10n.pt, data=small_data.ymal, epochs=100, time=None, patience=100, batch=16, imgsz=640, save=True, save_period=-1, val_period=1, cache=False, device=None, workers=8, project=None, name=train2, exist_ok=False, pretrained=True, optimizer=auto, verbose=True, seed=0, deterministic=True, single_cls=False, rect=False, cos_lr=False, close_mosaic=10, resume=False, amp=True, fraction=1.0, profile=False, freeze=None, multi_scale=False, overlap_mask=True, mask_ratio=4, dropout=0.0, val=True, split=val, save_json=False, save_hybrid=False, conf=None, iou=0.7, max_det=300, half=False, dnn=False, plots=True, source=None, vid_stride=1, stream_buffer=False, visualize=False, augment=False, agnostic_nms=False, classes=None, retina_masks=False, embed=None, show=False, save_frames=False, save_txt=False, save_conf=False, save_crop=False, show_labels=True, show_conf=True, show_boxes=True, line_width=None, format=torchscript, keras=False, optimize=False, int8=False, dynamic=False, simplify=False, opset=None, workspace=4, nms=False, lr0=0.01, lrf=0.01, momentum=0.937, weight_decay=0.0005, warmup_epochs=3.0, warmup_momentum=0.8, warmup_bias_lr=0.1, box=7.5, cls=0.5, dfl=1.5, pose=12.0, kobj=1.0, label_smoothing=0.0, nbs=64, hsv_h=0.015, hsv_s=0.7, hsv_v=0.4, degrees=0.0, translate=0.1, scale=0.5, shear=0.0, perspective=0.0, flipud=0.0, fliplr=0.5, bgr=0.0, mosaic=1.0, mixup=0.0, copy_paste=0.0, auto_augment=randaugment, erasing=0.4, crop_fraction=1.0, cfg=None, tracker=botsort.yaml, save_dir=/Users/kenna/runs/detect/train2\n",
      "Traceback (most recent call last):\n",
      "  File \"/Users/kenna/Desktop/dvd/Hunter_CC/yolov10/ultralytics/engine/trainer.py\", line 138, in __init__\n",
      "    self.data = check_det_dataset(self.args.data)\n",
      "  File \"/Users/kenna/Desktop/dvd/Hunter_CC/yolov10/ultralytics/data/utils.py\", line 277, in check_det_dataset\n",
      "    data = yaml_load(file, append_filename=True)  # dictionary\n",
      "  File \"/Users/kenna/Desktop/dvd/Hunter_CC/yolov10/ultralytics/utils/__init__.py\", line 361, in yaml_load\n",
      "    assert Path(file).suffix in (\".yaml\", \".yml\"), f\"Attempting to load non-YAML file {file} with yaml_load()\"\n",
      "AssertionError: Attempting to load non-YAML file small_data.ymal with yaml_load()\n",
      "\n",
      "The above exception was the direct cause of the following exception:\n",
      "\n",
      "Traceback (most recent call last):\n",
      "  File \"/Users/kenna/Desktop/dvd/Hunter_CC/.conda/bin/yolo\", line 8, in <module>\n",
      "    sys.exit(entrypoint())\n",
      "  File \"/Users/kenna/Desktop/dvd/Hunter_CC/yolov10/ultralytics/cfg/__init__.py\", line 594, in entrypoint\n",
      "    getattr(model, mode)(**overrides)  # default args from model\n",
      "  File \"/Users/kenna/Desktop/dvd/Hunter_CC/yolov10/ultralytics/engine/model.py\", line 638, in train\n",
      "    self.trainer = (trainer or self._smart_load(\"trainer\"))(overrides=args, _callbacks=self.callbacks)\n",
      "  File \"/Users/kenna/Desktop/dvd/Hunter_CC/yolov10/ultralytics/engine/trainer.py\", line 142, in __init__\n",
      "    raise RuntimeError(emojis(f\"Dataset '{clean_url(self.args.data)}' error ❌ {e}\")) from e\n",
      "RuntimeError: Dataset 'small_data.ymal' error ❌ Attempting to load non-YAML file small_data.ymal with yaml_load()\n"
     ]
    }
   ],
   "source": [
    "!yolo task=detect mode=train epochs=100 batch=16 plots=True model=weights/yolov10n.pt data=small_data.yaml"
   ]
  }
 ],
 "metadata": {
  "kernelspec": {
   "display_name": "Python 3",
   "language": "python",
   "name": "python3"
  },
  "language_info": {
   "codemirror_mode": {
    "name": "ipython",
    "version": 3
   },
   "file_extension": ".py",
   "mimetype": "text/x-python",
   "name": "python",
   "nbconvert_exporter": "python",
   "pygments_lexer": "ipython3",
   "version": "3.9.19"
  }
 },
 "nbformat": 4,
 "nbformat_minor": 2
}
