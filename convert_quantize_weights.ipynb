{
 "cells": [
  {
   "cell_type": "code",
   "execution_count": 2,
   "metadata": {},
   "outputs": [
    {
     "name": "stdout",
     "output_type": "stream",
     "text": [
      "Ultralytics YOLOv8.2.73 🚀 Python-3.9.19 torch-2.0.1+cu117 CPU (12th Gen Intel Core(TM) i9-12900H)\n",
      "YOLOv10n summary (fused): 285 layers, 2,695,196 parameters, 0 gradients, 8.2 GFLOPs\n",
      "\n",
      "\u001b[34m\u001b[1mPyTorch:\u001b[0m starting from 'trained_weights/v10n.pt' with input shape (1, 3, 480, 480) BCHW and output shape(s) (1, 300, 6) (5.5 MB)\n",
      "\n",
      "\u001b[34m\u001b[1mOpenVINO:\u001b[0m starting export with openvino 2024.2.0-15519-5c0f38f83f6-releases/2024/2...\n",
      "\u001b[34m\u001b[1mOpenVINO:\u001b[0m export success ✅ 3.2s, saved as 'trained_weights/v10n_openvino_model/' (9.0 MB)\n",
      "\n",
      "Export complete (4.7s)\n",
      "Results saved to \u001b[1m/home/kenna/dvd/trained_weights\u001b[0m\n",
      "Predict:         yolo predict task=detect model=trained_weights/v10n_openvino_model imgsz=480  \n",
      "Validate:        yolo val task=detect model=trained_weights/v10n_openvino_model imgsz=480 data=data.yaml  \n",
      "Visualize:       https://netron.app\n",
      "Ultralytics YOLOv8.2.73 🚀 Python-3.9.19 torch-2.0.1+cu117 CPU (12th Gen Intel Core(TM) i9-12900H)\n",
      "YOLOv10s summary (fused): 293 layers, 8,036,508 parameters, 0 gradients, 24.4 GFLOPs\n",
      "\n",
      "\u001b[34m\u001b[1mPyTorch:\u001b[0m starting from 'trained_weights/v10s.pt' with input shape (1, 3, 480, 480) BCHW and output shape(s) (1, 300, 6) (15.8 MB)\n",
      "\n",
      "\u001b[34m\u001b[1mOpenVINO:\u001b[0m starting export with openvino 2024.2.0-15519-5c0f38f83f6-releases/2024/2...\n",
      "\u001b[34m\u001b[1mOpenVINO:\u001b[0m export success ✅ 1.6s, saved as 'trained_weights/v10s_openvino_model/' (27.9 MB)\n",
      "\n",
      "Export complete (3.1s)\n",
      "Results saved to \u001b[1m/home/kenna/dvd/trained_weights\u001b[0m\n",
      "Predict:         yolo predict task=detect model=trained_weights/v10s_openvino_model imgsz=480  \n",
      "Validate:        yolo val task=detect model=trained_weights/v10s_openvino_model imgsz=480 data=data.yaml  \n",
      "Visualize:       https://netron.app\n"
     ]
    },
    {
     "data": {
      "text/plain": [
       "'trained_weights/v10s_openvino_model'"
      ]
     },
     "execution_count": 2,
     "metadata": {},
     "output_type": "execute_result"
    }
   ],
   "source": [
    "from ultralytics import YOLO\n",
    "model10n = YOLO('trained_weights/v10n.pt')\n",
    "model10n.export(format=\"openvino\", imgsz=480)\n",
    "model10s = YOLO('trained_weights/v10s.pt')\n",
    "model10s.export(format=\"openvino\", imgsz=480)"
   ]
  },
  {
   "cell_type": "code",
   "execution_count": 3,
   "metadata": {},
   "outputs": [
    {
     "name": "stdout",
     "output_type": "stream",
     "text": [
      "Ultralytics YOLOv8.2.73 🚀 Python-3.9.19 torch-2.0.1+cu117 CPU (12th Gen Intel Core(TM) i9-12900H)\n",
      "YOLOv10n summary (fused): 285 layers, 2,695,196 parameters, 0 gradients, 8.2 GFLOPs\n",
      "\n",
      "\u001b[34m\u001b[1mPyTorch:\u001b[0m starting from 'trained_weights/v10n.pt' with input shape (1, 3, 480, 480) BCHW and output shape(s) (1, 300, 6) (5.5 MB)\n",
      "\n",
      "\u001b[34m\u001b[1mONNX:\u001b[0m starting export with onnx 1.14.0 opset 17...\n",
      "============= Diagnostic Run torch.onnx.export version 2.0.1+cu117 =============\n",
      "verbose: False, log level: Level.ERROR\n",
      "======================= 0 NONE 0 NOTE 0 WARNING 0 ERROR ========================\n",
      "\n",
      "\u001b[34m\u001b[1mONNX:\u001b[0m export success ✅ 0.5s, saved as 'trained_weights/v10n.onnx' (8.8 MB)\n",
      "\n",
      "Export complete (1.8s)\n",
      "Results saved to \u001b[1m/home/kenna/dvd/trained_weights\u001b[0m\n",
      "Predict:         yolo predict task=detect model=trained_weights/v10n.onnx imgsz=480  \n",
      "Validate:        yolo val task=detect model=trained_weights/v10n.onnx imgsz=480 data=data.yaml  \n",
      "Visualize:       https://netron.app\n",
      "Ultralytics YOLOv8.2.73 🚀 Python-3.9.19 torch-2.0.1+cu117 CPU (12th Gen Intel Core(TM) i9-12900H)\n",
      "YOLOv10s summary (fused): 293 layers, 8,036,508 parameters, 0 gradients, 24.4 GFLOPs\n",
      "\n",
      "\u001b[34m\u001b[1mPyTorch:\u001b[0m starting from 'trained_weights/v10s.pt' with input shape (1, 3, 480, 480) BCHW and output shape(s) (1, 300, 6) (15.8 MB)\n",
      "\n",
      "\u001b[34m\u001b[1mONNX:\u001b[0m starting export with onnx 1.14.0 opset 17...\n",
      "============= Diagnostic Run torch.onnx.export version 2.0.1+cu117 =============\n",
      "verbose: False, log level: Level.ERROR\n",
      "======================= 0 NONE 0 NOTE 0 WARNING 0 ERROR ========================\n",
      "\n",
      "\u001b[34m\u001b[1mONNX:\u001b[0m export success ✅ 0.5s, saved as 'trained_weights/v10s.onnx' (27.7 MB)\n",
      "\n",
      "Export complete (2.1s)\n",
      "Results saved to \u001b[1m/home/kenna/dvd/trained_weights\u001b[0m\n",
      "Predict:         yolo predict task=detect model=trained_weights/v10s.onnx imgsz=480  \n",
      "Validate:        yolo val task=detect model=trained_weights/v10s.onnx imgsz=480 data=data.yaml  \n",
      "Visualize:       https://netron.app\n"
     ]
    },
    {
     "data": {
      "text/plain": [
       "'trained_weights/v10s.onnx'"
      ]
     },
     "execution_count": 3,
     "metadata": {},
     "output_type": "execute_result"
    }
   ],
   "source": [
    "model10n.export(format='onnx', imgsz=480)\n",
    "model10s.export(format='onnx', imgsz=480)"
   ]
  },
  {
   "cell_type": "code",
   "execution_count": 19,
   "metadata": {},
   "outputs": [
    {
     "data": {
      "text/html": [
       "<pre style=\"white-space:pre;overflow-x:auto;line-height:normal;font-family:Menlo,'DejaVu Sans Mono',consolas,'Courier New',monospace\"></pre>\n"
      ],
      "text/plain": []
     },
     "metadata": {},
     "output_type": "display_data"
    },
    {
     "data": {
      "text/html": [
       "<pre style=\"white-space:pre;overflow-x:auto;line-height:normal;font-family:Menlo,'DejaVu Sans Mono',consolas,'Courier New',monospace\">\n",
       "</pre>\n"
      ],
      "text/plain": [
       "\n"
      ]
     },
     "metadata": {},
     "output_type": "display_data"
    },
    {
     "data": {
      "text/html": [
       "<pre style=\"white-space:pre;overflow-x:auto;line-height:normal;font-family:Menlo,'DejaVu Sans Mono',consolas,'Courier New',monospace\">\n",
       "</pre>\n"
      ],
      "text/plain": [
       "\n"
      ]
     },
     "metadata": {},
     "output_type": "display_data"
    },
    {
     "data": {
      "text/html": [
       "<pre style=\"white-space:pre;overflow-x:auto;line-height:normal;font-family:Menlo,'DejaVu Sans Mono',consolas,'Courier New',monospace\"></pre>\n"
      ],
      "text/plain": []
     },
     "metadata": {},
     "output_type": "display_data"
    },
    {
     "data": {
      "text/html": [
       "<pre style=\"white-space:pre;overflow-x:auto;line-height:normal;font-family:Menlo,'DejaVu Sans Mono',consolas,'Courier New',monospace\">\n",
       "</pre>\n"
      ],
      "text/plain": [
       "\n"
      ]
     },
     "metadata": {},
     "output_type": "display_data"
    },
    {
     "data": {
      "text/html": [
       "<pre style=\"white-space:pre;overflow-x:auto;line-height:normal;font-family:Menlo,'DejaVu Sans Mono',consolas,'Courier New',monospace\">\n",
       "</pre>\n"
      ],
      "text/plain": [
       "\n"
      ]
     },
     "metadata": {},
     "output_type": "display_data"
    }
   ],
   "source": [
    "import nncf\n",
    "import openvino.runtime as ov\n",
    "import torch\n",
    "from torchvision import datasets, transforms\n",
    "import openvino as ov\n",
    "\n",
    "# Instantiate your uncompressed model\n",
    "model10n = ov.Core().read_model(\"trained_weights/v10n.onnx\")\n",
    "model10s = ov.Core().read_model(\"trained_weights/v10s.onnx\")\n",
    "\n",
    "# Provide validation part of the dataset to collect statistics needed for the compression algorithm\n",
    "val_dataset = datasets.ImageFolder(\"train_val_data/\", transform=transforms.Compose([transforms.RandomResizedCrop(480),transforms.ToTensor()]))\n",
    "dataset_loader = torch.utils.data.DataLoader(val_dataset, batch_size=1)\n",
    "\n",
    "# Step 1: Initialize transformation function\n",
    "def transform_fn(data_item):\n",
    "    images, _ = data_item\n",
    "    return images\n",
    "\n",
    "# Step 2: Initialize NNCF Dataset\n",
    "calibration_dataset = nncf.Dataset(dataset_loader, transform_fn)\n",
    "# Step 3: Run the quantization pipeline\n",
    "quantized_model10n = nncf.quantize(model10n, calibration_dataset)\n",
    "ov.save_model(quantized_model10n, 'trained_weights/v10n_quantized_openvino_model/v10n_quantized.xml')\n",
    "\n",
    "quantized_model_10s = nncf.quantize(model10s, calibration_dataset)\n",
    "ov.save_model(quantized_model_10s, 'trained_weights/v10s_quantized_openvino_model/v10s_quantized.xml')"
   ]
  },
  {
   "cell_type": "code",
   "execution_count": 20,
   "metadata": {},
   "outputs": [
    {
     "data": {
      "text/html": [
       "<pre style=\"white-space:pre;overflow-x:auto;line-height:normal;font-family:Menlo,'DejaVu Sans Mono',consolas,'Courier New',monospace\"></pre>\n"
      ],
      "text/plain": []
     },
     "metadata": {},
     "output_type": "display_data"
    },
    {
     "data": {
      "text/html": [
       "<pre style=\"white-space:pre;overflow-x:auto;line-height:normal;font-family:Menlo,'DejaVu Sans Mono',consolas,'Courier New',monospace\">\n",
       "</pre>\n"
      ],
      "text/plain": [
       "\n"
      ]
     },
     "metadata": {},
     "output_type": "display_data"
    },
    {
     "data": {
      "text/html": [
       "<pre style=\"white-space:pre;overflow-x:auto;line-height:normal;font-family:Menlo,'DejaVu Sans Mono',consolas,'Courier New',monospace\">\n",
       "</pre>\n"
      ],
      "text/plain": [
       "\n"
      ]
     },
     "metadata": {},
     "output_type": "display_data"
    }
   ],
   "source": [
    "drone_cpu = ov.Core().read_model(\"trained_weights/drone_cpu.onnx\")\n",
    "quantized_drone_cpu = nncf.quantize(drone_cpu, calibration_dataset)\n",
    "ov.save_model(quantized_drone_cpu, 'trained_weights/drone_cpu_quantized_openvino_model/drone_cpu_quantized.xml')\n"
   ]
  },
  {
   "cell_type": "code",
   "execution_count": 18,
   "metadata": {},
   "outputs": [
    {
     "data": {
      "text/html": [
       "<pre style=\"white-space:pre;overflow-x:auto;line-height:normal;font-family:Menlo,'DejaVu Sans Mono',consolas,'Courier New',monospace\"></pre>\n"
      ],
      "text/plain": []
     },
     "metadata": {},
     "output_type": "display_data"
    },
    {
     "data": {
      "text/html": [
       "<pre style=\"white-space:pre;overflow-x:auto;line-height:normal;font-family:Menlo,'DejaVu Sans Mono',consolas,'Courier New',monospace\">\n",
       "</pre>\n"
      ],
      "text/plain": [
       "\n"
      ]
     },
     "metadata": {},
     "output_type": "display_data"
    },
    {
     "data": {
      "text/html": [
       "<pre style=\"white-space:pre;overflow-x:auto;line-height:normal;font-family:Menlo,'DejaVu Sans Mono',consolas,'Courier New',monospace\">\n",
       "</pre>\n"
      ],
      "text/plain": [
       "\n"
      ]
     },
     "metadata": {},
     "output_type": "display_data"
    }
   ],
   "source": []
  },
  {
   "cell_type": "code",
   "execution_count": 21,
   "metadata": {},
   "outputs": [],
   "source": [
    "# import openvino as ov\n",
    "# model = ov.convert_model('model_weights/yolov5v2n/best.onnx')\n",
    "# ov.save_model(model, 'eagle_model_weights/yolov5v2n.xml')"
   ]
  }
 ],
 "metadata": {
  "kernelspec": {
   "display_name": "tf-gpu-3.9",
   "language": "python",
   "name": "python3"
  },
  "language_info": {
   "codemirror_mode": {
    "name": "ipython",
    "version": 3
   },
   "file_extension": ".py",
   "mimetype": "text/x-python",
   "name": "python",
   "nbconvert_exporter": "python",
   "pygments_lexer": "ipython3",
   "version": "3.9.19"
  }
 },
 "nbformat": 4,
 "nbformat_minor": 2
}
